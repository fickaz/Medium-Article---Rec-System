{
 "cells": [
  {
   "cell_type": "code",
   "execution_count": 1,
   "metadata": {
    "ExecuteTime": {
     "end_time": "2021-02-09T06:34:50.609339Z",
     "start_time": "2021-02-09T06:34:46.177635Z"
    }
   },
   "outputs": [],
   "source": [
    "import pandas as pd\n",
    "import numpy as np\n",
    "\n",
    "import matplotlib.pyplot as plt\n",
    "import seaborn as sns\n",
    "sns.set_style('white')\n",
    "%matplotlib inline\n",
    "\n",
    "#### use this quick function:\n",
    "def display_all(df):\n",
    "    with pd.option_context('display.max_rows', None, 'display.max_columns', None):\n",
    "        print(df)\n",
    "        \n",
    "import os\n",
    "from IPython.display import HTML\n",
    "from collections import Counter"
   ]
  },
  {
   "cell_type": "code",
   "execution_count": 2,
   "metadata": {
    "ExecuteTime": {
     "end_time": "2021-02-09T06:34:50.619255Z",
     "start_time": "2021-02-09T06:34:50.611271Z"
    }
   },
   "outputs": [
    {
     "data": {
      "text/plain": [
       "['ch1.csv', 'ch1b.csv']"
      ]
     },
     "execution_count": 2,
     "metadata": {},
     "output_type": "execute_result"
    }
   ],
   "source": [
    "os.listdir('data')"
   ]
  },
  {
   "cell_type": "code",
   "execution_count": 3,
   "metadata": {
    "ExecuteTime": {
     "end_time": "2021-02-09T06:34:50.656151Z",
     "start_time": "2021-02-09T06:34:50.620249Z"
    }
   },
   "outputs": [
    {
     "data": {
      "text/html": [
       "<div>\n",
       "<style scoped>\n",
       "    .dataframe tbody tr th:only-of-type {\n",
       "        vertical-align: middle;\n",
       "    }\n",
       "\n",
       "    .dataframe tbody tr th {\n",
       "        vertical-align: top;\n",
       "    }\n",
       "\n",
       "    .dataframe thead th {\n",
       "        text-align: right;\n",
       "    }\n",
       "</style>\n",
       "<table border=\"1\" class=\"dataframe\">\n",
       "  <thead>\n",
       "    <tr style=\"text-align: right;\">\n",
       "      <th></th>\n",
       "      <th>Users</th>\n",
       "      <th>Movie 1</th>\n",
       "      <th>Movie 2</th>\n",
       "      <th>Movie 3</th>\n",
       "      <th>Movie 4</th>\n",
       "      <th>Movie 5</th>\n",
       "    </tr>\n",
       "  </thead>\n",
       "  <tbody>\n",
       "    <tr>\n",
       "      <th>0</th>\n",
       "      <td>Wong</td>\n",
       "      <td>1</td>\n",
       "      <td>5</td>\n",
       "      <td>4</td>\n",
       "      <td>1</td>\n",
       "      <td>1.0</td>\n",
       "    </tr>\n",
       "    <tr>\n",
       "      <th>1</th>\n",
       "      <td>James</td>\n",
       "      <td>3</td>\n",
       "      <td>3</td>\n",
       "      <td>5</td>\n",
       "      <td>2</td>\n",
       "      <td>1.0</td>\n",
       "    </tr>\n",
       "    <tr>\n",
       "      <th>2</th>\n",
       "      <td>Kevin</td>\n",
       "      <td>5</td>\n",
       "      <td>2</td>\n",
       "      <td>5</td>\n",
       "      <td>4</td>\n",
       "      <td>4.0</td>\n",
       "    </tr>\n",
       "    <tr>\n",
       "      <th>3</th>\n",
       "      <td>Ali</td>\n",
       "      <td>3</td>\n",
       "      <td>1</td>\n",
       "      <td>2</td>\n",
       "      <td>1</td>\n",
       "      <td>2.0</td>\n",
       "    </tr>\n",
       "    <tr>\n",
       "      <th>4</th>\n",
       "      <td>Amy</td>\n",
       "      <td>3</td>\n",
       "      <td>3</td>\n",
       "      <td>5</td>\n",
       "      <td>1</td>\n",
       "      <td>NaN</td>\n",
       "    </tr>\n",
       "  </tbody>\n",
       "</table>\n",
       "</div>"
      ],
      "text/plain": [
       "   Users  Movie 1  Movie 2  Movie 3  Movie 4  Movie 5\n",
       "0   Wong        1        5        4        1      1.0\n",
       "1  James        3        3        5        2      1.0\n",
       "2  Kevin        5        2        5        4      4.0\n",
       "3    Ali        3        1        2        1      2.0\n",
       "4    Amy        3        3        5        1      NaN"
      ]
     },
     "execution_count": 3,
     "metadata": {},
     "output_type": "execute_result"
    }
   ],
   "source": [
    "df = pd.read_csv('data/ch1.csv')\n",
    "df.head()"
   ]
  },
  {
   "cell_type": "code",
   "execution_count": 4,
   "metadata": {
    "ExecuteTime": {
     "end_time": "2021-02-09T06:34:52.046582Z",
     "start_time": "2021-02-09T06:34:52.034613Z"
    }
   },
   "outputs": [
    {
     "data": {
      "text/plain": [
       "4    3.0\n",
       "dtype: float64"
      ]
     },
     "execution_count": 4,
     "metadata": {},
     "output_type": "execute_result"
    }
   ],
   "source": [
    "df[df['Users'] =='Amy'].mean(axis=1)"
   ]
  },
  {
   "cell_type": "code",
   "execution_count": 5,
   "metadata": {
    "ExecuteTime": {
     "end_time": "2021-02-09T06:34:52.224107Z",
     "start_time": "2021-02-09T06:34:52.217125Z"
    }
   },
   "outputs": [
    {
     "data": {
      "text/plain": [
       "0    2.4\n",
       "dtype: float64"
      ]
     },
     "execution_count": 5,
     "metadata": {},
     "output_type": "execute_result"
    }
   ],
   "source": [
    "df[df['Users'] =='Wong'].mean(axis=1)"
   ]
  },
  {
   "cell_type": "code",
   "execution_count": 6,
   "metadata": {
    "ExecuteTime": {
     "end_time": "2021-02-09T06:34:57.513250Z",
     "start_time": "2021-02-09T06:34:57.506243Z"
    }
   },
   "outputs": [],
   "source": [
    "## Calculate Similarity in between users\n",
    "\n",
    "def sim(a, b, df):\n",
    "    \n",
    "    avg_user_a = df.loc[df['Users'] == a, :]\n",
    "    avg_user_a = avg_user_a.iloc[:, 1:].mean(axis=1).values[0]    \n",
    "    user_a_rat_diff = df.loc[df['Users'] == a, :].iloc[:, 1:] - avg_user_a\n",
    "    \n",
    "    avg_user_b = df.loc[df['Users'] == b, :]\n",
    "    avg_user_b = avg_user_b.iloc[:, 1:].mean(axis=1).values[0]    \n",
    "    user_b_rat_diff = df.loc[df['Users'] == b, :].iloc[:, 1:] - avg_user_b\n",
    "    \n",
    "    num = user_a_rat_diff.values * user_b_rat_diff.values\n",
    "    num = num[0]\n",
    "    num = num[~np.isnan(num)]\n",
    "    num = num.sum()\n",
    "    \n",
    "    denom = user_a_rat_diff.pow(2).sum(axis=1).pow(.5).values * user_b_rat_diff.pow(2).sum(axis=1).pow(.5).values\n",
    "    \n",
    "    sim = num / denom\n",
    "    return sim"
   ]
  },
  {
   "cell_type": "code",
   "execution_count": 7,
   "metadata": {
    "ExecuteTime": {
     "end_time": "2021-02-09T06:34:58.007800Z",
     "start_time": "2021-02-09T06:34:57.882811Z"
    }
   },
   "outputs": [
    {
     "data": {
      "text/html": [
       "<div>\n",
       "<style scoped>\n",
       "    .dataframe tbody tr th:only-of-type {\n",
       "        vertical-align: middle;\n",
       "    }\n",
       "\n",
       "    .dataframe tbody tr th {\n",
       "        vertical-align: top;\n",
       "    }\n",
       "\n",
       "    .dataframe thead th {\n",
       "        text-align: right;\n",
       "    }\n",
       "</style>\n",
       "<table border=\"1\" class=\"dataframe\">\n",
       "  <thead>\n",
       "    <tr style=\"text-align: right;\">\n",
       "      <th></th>\n",
       "      <th>User a</th>\n",
       "      <th>User b</th>\n",
       "      <th>Sim</th>\n",
       "    </tr>\n",
       "  </thead>\n",
       "  <tbody>\n",
       "    <tr>\n",
       "      <th>0</th>\n",
       "      <td>Amy</td>\n",
       "      <td>Wong</td>\n",
       "      <td>0.54</td>\n",
       "    </tr>\n",
       "    <tr>\n",
       "      <th>1</th>\n",
       "      <td>Amy</td>\n",
       "      <td>James</td>\n",
       "      <td>0.72</td>\n",
       "    </tr>\n",
       "    <tr>\n",
       "      <th>2</th>\n",
       "      <td>Amy</td>\n",
       "      <td>Kevin</td>\n",
       "      <td>0.29</td>\n",
       "    </tr>\n",
       "    <tr>\n",
       "      <th>3</th>\n",
       "      <td>Amy</td>\n",
       "      <td>Ali</td>\n",
       "      <td>0.42</td>\n",
       "    </tr>\n",
       "  </tbody>\n",
       "</table>\n",
       "</div>"
      ],
      "text/plain": [
       "  User a User b   Sim\n",
       "0    Amy   Wong  0.54\n",
       "1    Amy  James  0.72\n",
       "2    Amy  Kevin  0.29\n",
       "3    Amy    Ali  0.42"
      ]
     },
     "execution_count": 7,
     "metadata": {},
     "output_type": "execute_result"
    }
   ],
   "source": [
    "user_sim = []\n",
    "\n",
    "for pair in [['Amy', 'Wong'], ['Amy', 'James'], ['Amy', 'Kevin'], ['Amy', 'Ali']]:\n",
    "    user_a = pair[0]\n",
    "    user_b = pair[1]\n",
    "    \n",
    "    pearson_sim = np.round(sim(user_a, user_b, df), 2)[0]\n",
    "    user_sim.append((user_a, user_b, pearson_sim))\n",
    "    \n",
    "user_simdf = pd.DataFrame(user_sim)\n",
    "user_simdf.columns = ['User a', 'User b', 'Sim']\n",
    "user_simdf"
   ]
  },
  {
   "cell_type": "code",
   "execution_count": 8,
   "metadata": {
    "ExecuteTime": {
     "end_time": "2021-02-09T06:34:58.607513Z",
     "start_time": "2021-02-09T06:34:58.591556Z"
    }
   },
   "outputs": [
    {
     "data": {
      "text/html": [
       "<div>\n",
       "<style scoped>\n",
       "    .dataframe tbody tr th:only-of-type {\n",
       "        vertical-align: middle;\n",
       "    }\n",
       "\n",
       "    .dataframe tbody tr th {\n",
       "        vertical-align: top;\n",
       "    }\n",
       "\n",
       "    .dataframe thead th {\n",
       "        text-align: right;\n",
       "    }\n",
       "</style>\n",
       "<table border=\"1\" class=\"dataframe\">\n",
       "  <thead>\n",
       "    <tr style=\"text-align: right;\">\n",
       "      <th></th>\n",
       "      <th>User</th>\n",
       "      <th>Average Rating</th>\n",
       "    </tr>\n",
       "  </thead>\n",
       "  <tbody>\n",
       "    <tr>\n",
       "      <th>0</th>\n",
       "      <td>Wong</td>\n",
       "      <td>2.4</td>\n",
       "    </tr>\n",
       "    <tr>\n",
       "      <th>1</th>\n",
       "      <td>James</td>\n",
       "      <td>2.8</td>\n",
       "    </tr>\n",
       "    <tr>\n",
       "      <th>2</th>\n",
       "      <td>Kevin</td>\n",
       "      <td>4.0</td>\n",
       "    </tr>\n",
       "    <tr>\n",
       "      <th>3</th>\n",
       "      <td>Ali</td>\n",
       "      <td>1.8</td>\n",
       "    </tr>\n",
       "    <tr>\n",
       "      <th>4</th>\n",
       "      <td>Amy</td>\n",
       "      <td>3.0</td>\n",
       "    </tr>\n",
       "  </tbody>\n",
       "</table>\n",
       "</div>"
      ],
      "text/plain": [
       "    User  Average Rating\n",
       "0   Wong             2.4\n",
       "1  James             2.8\n",
       "2  Kevin             4.0\n",
       "3    Ali             1.8\n",
       "4    Amy             3.0"
      ]
     },
     "execution_count": 8,
     "metadata": {},
     "output_type": "execute_result"
    }
   ],
   "source": [
    "## Calculate Average Rating for each user\n",
    "\n",
    "avgdf = []\n",
    "\n",
    "for i in df.Users.unique():\n",
    "    avg = df.loc[df['Users'] == i, :]\n",
    "    avg = avg.iloc[:, 1:].mean(axis=1).values[0]\n",
    "    avgdf.append((i, avg))\n",
    "    \n",
    "avgdf = pd.DataFrame(avgdf)\n",
    "avgdf.columns = ['User', 'Average Rating']\n",
    "avgdf"
   ]
  },
  {
   "cell_type": "code",
   "execution_count": 9,
   "metadata": {
    "ExecuteTime": {
     "end_time": "2021-02-09T06:35:03.157686Z",
     "start_time": "2021-02-09T06:35:03.153696Z"
    }
   },
   "outputs": [],
   "source": [
    "def retrieve_user_avg_rating(user, avgdf):\n",
    "    for i in range(len(avgdf)):\n",
    "        if avgdf[i][0] == user:\n",
    "            user_avg = avgdf[i][1]\n",
    "            return user_avg"
   ]
  },
  {
   "cell_type": "code",
   "execution_count": 10,
   "metadata": {
    "ExecuteTime": {
     "end_time": "2021-02-09T06:35:03.385519Z",
     "start_time": "2021-02-09T06:35:03.381528Z"
    }
   },
   "outputs": [],
   "source": [
    "def retrieve_user_avg_rating(user, avgdf):\n",
    "    return avgdf.loc[avgdf['User'] == user, 'Average Rating'].values[0]"
   ]
  },
  {
   "cell_type": "code",
   "execution_count": 11,
   "metadata": {
    "ExecuteTime": {
     "end_time": "2021-02-09T06:35:03.798400Z",
     "start_time": "2021-02-09T06:35:03.793415Z"
    }
   },
   "outputs": [
    {
     "data": {
      "text/plain": [
       "3.0"
      ]
     },
     "execution_count": 11,
     "metadata": {},
     "output_type": "execute_result"
    }
   ],
   "source": [
    "user_a_avg = retrieve_user_avg_rating('Amy', avgdf)\n",
    "user_a_avg    "
   ]
  },
  {
   "cell_type": "code",
   "execution_count": 12,
   "metadata": {
    "ExecuteTime": {
     "end_time": "2021-02-09T06:35:04.645220Z",
     "start_time": "2021-02-09T06:35:04.623280Z"
    }
   },
   "outputs": [
    {
     "name": "stdout",
     "output_type": "stream",
     "text": [
      "Amy Movie 5 2.0010152284263962\n"
     ]
    }
   ],
   "source": [
    "## Calculate prediction for item x for user a\n",
    "\n",
    "user_a = 'Amy'\n",
    "item = 'Movie 5'\n",
    "\n",
    "total_weighted_rating = []\n",
    "total_sim = []\n",
    "\n",
    "for user_b in df.loc[df['Users'] != user_a, 'Users'].values:\n",
    "    \n",
    "    similarity = user_simdf.loc[(user_simdf['User b'] == user_b) & \n",
    "                                (user_simdf['User a'] == user_a), \n",
    "                               'Sim'].values[0]\n",
    "    \n",
    "    total_sim.append(similarity)\n",
    "    \n",
    "    rating_diff = df.loc[df['Users'] == user_b, item].values[0] - retrieve_user_avg_rating(user_b, avgdf)\n",
    "    \n",
    "    total_weighted_rating.append(similarity * rating_diff)\n",
    "    \n",
    "prediction = retrieve_user_avg_rating(user_a, avgdf) + (np.sum(total_weighted_rating) / np.sum(total_sim)) \n",
    "\n",
    "print(user_a, item, prediction)"
   ]
  },
  {
   "cell_type": "code",
   "execution_count": 13,
   "metadata": {
    "ExecuteTime": {
     "end_time": "2021-02-09T06:35:06.591900Z",
     "start_time": "2021-02-09T06:35:06.573947Z"
    }
   },
   "outputs": [
    {
     "data": {
      "text/html": [
       "<div>\n",
       "<style scoped>\n",
       "    .dataframe tbody tr th:only-of-type {\n",
       "        vertical-align: middle;\n",
       "    }\n",
       "\n",
       "    .dataframe tbody tr th {\n",
       "        vertical-align: top;\n",
       "    }\n",
       "\n",
       "    .dataframe thead th {\n",
       "        text-align: right;\n",
       "    }\n",
       "</style>\n",
       "<table border=\"1\" class=\"dataframe\">\n",
       "  <thead>\n",
       "    <tr style=\"text-align: right;\">\n",
       "      <th></th>\n",
       "      <th>Item a</th>\n",
       "      <th>Item b</th>\n",
       "      <th>Sim</th>\n",
       "    </tr>\n",
       "  </thead>\n",
       "  <tbody>\n",
       "    <tr>\n",
       "      <th>0</th>\n",
       "      <td>Movie 5</td>\n",
       "      <td>Movie 1</td>\n",
       "      <td>0.88</td>\n",
       "    </tr>\n",
       "    <tr>\n",
       "      <th>1</th>\n",
       "      <td>Movie 5</td>\n",
       "      <td>Movie 2</td>\n",
       "      <td>0.55</td>\n",
       "    </tr>\n",
       "    <tr>\n",
       "      <th>2</th>\n",
       "      <td>Movie 5</td>\n",
       "      <td>Movie 3</td>\n",
       "      <td>0.72</td>\n",
       "    </tr>\n",
       "    <tr>\n",
       "      <th>3</th>\n",
       "      <td>Movie 5</td>\n",
       "      <td>Movie 4</td>\n",
       "      <td>0.93</td>\n",
       "    </tr>\n",
       "  </tbody>\n",
       "</table>\n",
       "</div>"
      ],
      "text/plain": [
       "    Item a   Item b   Sim\n",
       "0  Movie 5  Movie 1  0.88\n",
       "1  Movie 5  Movie 2  0.55\n",
       "2  Movie 5  Movie 3  0.72\n",
       "3  Movie 5  Movie 4  0.93"
      ]
     },
     "execution_count": 13,
     "metadata": {},
     "output_type": "execute_result"
    }
   ],
   "source": [
    "## cosine similarity measure for items\n",
    "\n",
    "movie_sim = []\n",
    "\n",
    "ddf =  df.fillna(0)\n",
    "for pair in [['Movie 5', 'Movie 1'], ['Movie 5', 'Movie 2'], ['Movie 5', 'Movie 3'], ['Movie 5', 'Movie 4']]:\n",
    "    movie_a = pair[0]\n",
    "    movie_b = pair[1]\n",
    "    dot_prod = ddf.loc[:, movie_a].dot(ddf.loc[:, movie_b])\n",
    "    \n",
    "    euc_dist_a = np.sum(ddf.loc[:, movie_a]**2)**0.5\n",
    "    euc_dist_b = np.sum(ddf.loc[:, movie_b]**2)**0.5\n",
    "    \n",
    "    cosine_sim = np.round(dot_prod / (euc_dist_a * euc_dist_b), 2)\n",
    "    \n",
    "    movie_sim.append((movie_a, movie_b, cosine_sim))\n",
    "    \n",
    "movie_sim = pd.DataFrame(movie_sim)\n",
    "movie_sim.columns = ['Item a', 'Item b', 'Sim']\n",
    "movie_sim"
   ]
  },
  {
   "cell_type": "code",
   "execution_count": 14,
   "metadata": {
    "ExecuteTime": {
     "end_time": "2021-02-09T06:35:08.227178Z",
     "start_time": "2021-02-09T06:35:08.212218Z"
    }
   },
   "outputs": [
    {
     "data": {
      "text/html": [
       "<div>\n",
       "<style scoped>\n",
       "    .dataframe tbody tr th:only-of-type {\n",
       "        vertical-align: middle;\n",
       "    }\n",
       "\n",
       "    .dataframe tbody tr th {\n",
       "        vertical-align: top;\n",
       "    }\n",
       "\n",
       "    .dataframe thead th {\n",
       "        text-align: right;\n",
       "    }\n",
       "</style>\n",
       "<table border=\"1\" class=\"dataframe\">\n",
       "  <thead>\n",
       "    <tr style=\"text-align: right;\">\n",
       "      <th></th>\n",
       "      <th>Users</th>\n",
       "      <th>Movie 1</th>\n",
       "      <th>Movie 2</th>\n",
       "      <th>Movie 3</th>\n",
       "      <th>Movie 4</th>\n",
       "      <th>Movie 5</th>\n",
       "      <th>mean</th>\n",
       "    </tr>\n",
       "  </thead>\n",
       "  <tbody>\n",
       "    <tr>\n",
       "      <th>0</th>\n",
       "      <td>Wong</td>\n",
       "      <td>0.416667</td>\n",
       "      <td>2.083333</td>\n",
       "      <td>1.666667</td>\n",
       "      <td>0.416667</td>\n",
       "      <td>0.416667</td>\n",
       "      <td>2.4</td>\n",
       "    </tr>\n",
       "    <tr>\n",
       "      <th>1</th>\n",
       "      <td>James</td>\n",
       "      <td>1.071429</td>\n",
       "      <td>1.071429</td>\n",
       "      <td>1.785714</td>\n",
       "      <td>0.714286</td>\n",
       "      <td>0.357143</td>\n",
       "      <td>2.8</td>\n",
       "    </tr>\n",
       "    <tr>\n",
       "      <th>2</th>\n",
       "      <td>Kevin</td>\n",
       "      <td>1.250000</td>\n",
       "      <td>0.500000</td>\n",
       "      <td>1.250000</td>\n",
       "      <td>1.000000</td>\n",
       "      <td>1.000000</td>\n",
       "      <td>4.0</td>\n",
       "    </tr>\n",
       "    <tr>\n",
       "      <th>3</th>\n",
       "      <td>Ali</td>\n",
       "      <td>1.666667</td>\n",
       "      <td>0.555556</td>\n",
       "      <td>1.111111</td>\n",
       "      <td>0.555556</td>\n",
       "      <td>1.111111</td>\n",
       "      <td>1.8</td>\n",
       "    </tr>\n",
       "    <tr>\n",
       "      <th>4</th>\n",
       "      <td>Amy</td>\n",
       "      <td>1.000000</td>\n",
       "      <td>1.000000</td>\n",
       "      <td>1.666667</td>\n",
       "      <td>0.333333</td>\n",
       "      <td>0.000000</td>\n",
       "      <td>3.0</td>\n",
       "    </tr>\n",
       "  </tbody>\n",
       "</table>\n",
       "</div>"
      ],
      "text/plain": [
       "   Users   Movie 1   Movie 2   Movie 3   Movie 4   Movie 5  mean\n",
       "0   Wong  0.416667  2.083333  1.666667  0.416667  0.416667   2.4\n",
       "1  James  1.071429  1.071429  1.785714  0.714286  0.357143   2.8\n",
       "2  Kevin  1.250000  0.500000  1.250000  1.000000  1.000000   4.0\n",
       "3    Ali  1.666667  0.555556  1.111111  0.555556  1.111111   1.8\n",
       "4    Amy  1.000000  1.000000  1.666667  0.333333  0.000000   3.0"
      ]
     },
     "execution_count": 14,
     "metadata": {},
     "output_type": "execute_result"
    }
   ],
   "source": [
    "## adjusted Cosine similarity measures\n",
    "\n",
    "## mean adjusted df is: rating of user a of item x - average rating of user a\n",
    "mean_adjusted_df = df.copy()\n",
    "mean_adjusted_df['mean'] = mean_adjusted_df.mean(axis=1)\n",
    "for item in mean_adjusted_df.iloc[:, 1:-1].columns:\n",
    "    mean_adjusted_df[item] = mean_adjusted_df[item] /mean_adjusted_df['mean']\n",
    "    \n",
    "mean_adjusted_df = mean_adjusted_df.fillna(0)\n",
    "mean_adjusted_df"
   ]
  },
  {
   "cell_type": "code",
   "execution_count": 15,
   "metadata": {
    "ExecuteTime": {
     "end_time": "2021-02-09T06:35:09.755797Z",
     "start_time": "2021-02-09T06:35:09.735847Z"
    }
   },
   "outputs": [
    {
     "data": {
      "text/html": [
       "<div>\n",
       "<style scoped>\n",
       "    .dataframe tbody tr th:only-of-type {\n",
       "        vertical-align: middle;\n",
       "    }\n",
       "\n",
       "    .dataframe tbody tr th {\n",
       "        vertical-align: top;\n",
       "    }\n",
       "\n",
       "    .dataframe thead th {\n",
       "        text-align: right;\n",
       "    }\n",
       "</style>\n",
       "<table border=\"1\" class=\"dataframe\">\n",
       "  <thead>\n",
       "    <tr style=\"text-align: right;\">\n",
       "      <th></th>\n",
       "      <th>Item a</th>\n",
       "      <th>Item b</th>\n",
       "      <th>Adjusted Cosine Sim</th>\n",
       "    </tr>\n",
       "  </thead>\n",
       "  <tbody>\n",
       "    <tr>\n",
       "      <th>0</th>\n",
       "      <td>Movie 5</td>\n",
       "      <td>Movie 1</td>\n",
       "      <td>0.890038</td>\n",
       "    </tr>\n",
       "    <tr>\n",
       "      <th>1</th>\n",
       "      <td>Movie 5</td>\n",
       "      <td>Movie 2</td>\n",
       "      <td>0.560184</td>\n",
       "    </tr>\n",
       "    <tr>\n",
       "      <th>2</th>\n",
       "      <td>Movie 5</td>\n",
       "      <td>Movie 3</td>\n",
       "      <td>0.705529</td>\n",
       "    </tr>\n",
       "    <tr>\n",
       "      <th>3</th>\n",
       "      <td>Movie 5</td>\n",
       "      <td>Movie 4</td>\n",
       "      <td>0.885881</td>\n",
       "    </tr>\n",
       "  </tbody>\n",
       "</table>\n",
       "</div>"
      ],
      "text/plain": [
       "    Item a   Item b  Adjusted Cosine Sim\n",
       "0  Movie 5  Movie 1             0.890038\n",
       "1  Movie 5  Movie 2             0.560184\n",
       "2  Movie 5  Movie 3             0.705529\n",
       "3  Movie 5  Movie 4             0.885881"
      ]
     },
     "execution_count": 15,
     "metadata": {},
     "output_type": "execute_result"
    }
   ],
   "source": [
    "adjucted_cosine_sim_df = []\n",
    "\n",
    "for pair in [['Movie 5', 'Movie 1'], ['Movie 5', 'Movie 2'], ['Movie 5', 'Movie 3'], ['Movie 5', 'Movie 4']]:\n",
    "    movie_a = pair[0]\n",
    "    movie_b = pair[1]\n",
    "    \n",
    "    num = mean_adjusted_df[movie_a].dot(mean_adjusted_df[movie_b])\n",
    "    denom = np.sum(mean_adjusted_df[movie_a]**2)**0.5 * np.sum(mean_adjusted_df[movie_b]**2)**0.5\n",
    "    adjucted_cosine_sim_df.append((movie_a, movie_b, num / denom))\n",
    "\n",
    "adjucted_cosine_sim_df = pd.DataFrame(adjucted_cosine_sim_df)\n",
    "adjucted_cosine_sim_df.columns = ['Item a', 'Item b', 'Adjusted Cosine Sim']\n",
    "adjucted_cosine_sim_df"
   ]
  },
  {
   "cell_type": "code",
   "execution_count": 16,
   "metadata": {
    "ExecuteTime": {
     "end_time": "2021-02-09T06:35:10.661405Z",
     "start_time": "2021-02-09T06:35:10.650407Z"
    }
   },
   "outputs": [
    {
     "name": "stdout",
     "output_type": "stream",
     "text": [
      "Amy Movie 5 2.881411366374665\n"
     ]
    }
   ],
   "source": [
    "item_predicted = 'Movie 5'\n",
    "user_chosen = 'Amy'\n",
    "\n",
    "df_user_chosen = df[df['Users'] == user_chosen]\n",
    "df_user_chosen_rating = df_user_chosen.iloc[:, 1:]\n",
    "df_user_chosen_rating = df_user_chosen_rating.dropna(1)\n",
    "prediction = df_user_chosen_rating.T.iloc[:, 0].reset_index(drop=True).dot(adjucted_cosine_sim_df['Adjusted Cosine Sim'])\n",
    "prediction = (prediction / adjucted_cosine_sim_df['Adjusted Cosine Sim'].sum())\n",
    "print(user_chosen, item_predicted, prediction)"
   ]
  },
  {
   "cell_type": "markdown",
   "metadata": {},
   "source": [
    "### Singular Value Decomposition"
   ]
  },
  {
   "cell_type": "code",
   "execution_count": 18,
   "metadata": {
    "ExecuteTime": {
     "end_time": "2021-02-09T06:35:50.653777Z",
     "start_time": "2021-02-09T06:35:50.648830Z"
    }
   },
   "outputs": [],
   "source": [
    "## omit Amy and Movie 5, for now\n",
    "# because we want to establish singular matrices based on fully-rated movies and users\n",
    "M = df.iloc[:-1, 1:-1]\n",
    "M = np.array(M)\n",
    "u, s, vt = np.linalg.svd(M, full_matrices=True)"
   ]
  },
  {
   "cell_type": "code",
   "execution_count": 20,
   "metadata": {
    "ExecuteTime": {
     "end_time": "2021-02-09T06:35:53.899507Z",
     "start_time": "2021-02-09T06:35:53.885545Z"
    }
   },
   "outputs": [
    {
     "data": {
      "text/plain": [
       "array([[-0.45433291, -0.79824398,  0.03697881, -0.3937267 ],\n",
       "       [-0.54428691, -0.10193815, -0.02632488,  0.83226641],\n",
       "       [-0.64413421,  0.52979763, -0.40988308, -0.36932567],\n",
       "       [-0.28709664,  0.26782389,  0.91100792, -0.12613665]])"
      ]
     },
     "execution_count": 20,
     "metadata": {},
     "output_type": "execute_result"
    }
   ],
   "source": [
    "u"
   ]
  },
  {
   "cell_type": "code",
   "execution_count": 21,
   "metadata": {
    "ExecuteTime": {
     "end_time": "2021-02-09T06:35:54.319009Z",
     "start_time": "2021-02-09T06:35:54.314022Z"
    }
   },
   "outputs": [
    {
     "data": {
      "text/plain": [
       "array([[12.52815477,  0.        ,  0.        ,  0.        ],\n",
       "       [ 0.        ,  4.06446689,  0.        ,  0.        ],\n",
       "       [ 0.        ,  0.        ,  1.02417419,  0.        ],\n",
       "       [ 0.        ,  0.        ,  0.        ,  0.69030016]])"
      ]
     },
     "execution_count": 21,
     "metadata": {},
     "output_type": "execute_result"
    }
   ],
   "source": [
    "s = np.diag(s)\n",
    "s"
   ]
  },
  {
   "cell_type": "code",
   "execution_count": 22,
   "metadata": {
    "ExecuteTime": {
     "end_time": "2021-02-09T06:35:54.823639Z",
     "start_time": "2021-02-09T06:35:54.819648Z"
    }
   },
   "outputs": [
    {
     "data": {
      "text/plain": [
       "array([[-0.49242324, -0.43740602, -0.66519218, -0.35173099],\n",
       "       [ 0.57778829, -0.73062847, -0.12745356,  0.34073204],\n",
       "       [ 0.62646818,  0.19250746, -0.20612578, -0.72662966],\n",
       "       [-0.1766852 , -0.48764627,  0.70624863, -0.48186754]])"
      ]
     },
     "execution_count": 22,
     "metadata": {},
     "output_type": "execute_result"
    }
   ],
   "source": [
    "vt"
   ]
  },
  {
   "cell_type": "code",
   "execution_count": 23,
   "metadata": {
    "ExecuteTime": {
     "end_time": "2021-02-09T06:35:57.598037Z",
     "start_time": "2021-02-09T06:35:57.593051Z"
    }
   },
   "outputs": [
    {
     "data": {
      "text/plain": [
       "array([[12.52815477,  0.        ],\n",
       "       [ 0.        ,  4.06446689]])"
      ]
     },
     "execution_count": 23,
     "metadata": {},
     "output_type": "execute_result"
    }
   ],
   "source": [
    "s[:2, :2]"
   ]
  },
  {
   "cell_type": "code",
   "execution_count": 24,
   "metadata": {
    "ExecuteTime": {
     "end_time": "2021-02-09T06:35:57.923590Z",
     "start_time": "2021-02-09T06:35:57.910626Z"
    }
   },
   "outputs": [
    {
     "data": {
      "text/html": [
       "<div>\n",
       "<style scoped>\n",
       "    .dataframe tbody tr th:only-of-type {\n",
       "        vertical-align: middle;\n",
       "    }\n",
       "\n",
       "    .dataframe tbody tr th {\n",
       "        vertical-align: top;\n",
       "    }\n",
       "\n",
       "    .dataframe thead th {\n",
       "        text-align: right;\n",
       "    }\n",
       "</style>\n",
       "<table border=\"1\" class=\"dataframe\">\n",
       "  <thead>\n",
       "    <tr style=\"text-align: right;\">\n",
       "      <th></th>\n",
       "      <th>Users</th>\n",
       "      <th>Movie 1</th>\n",
       "      <th>Movie 2</th>\n",
       "      <th>Movie 3</th>\n",
       "      <th>Movie 4</th>\n",
       "      <th>Movie 5</th>\n",
       "    </tr>\n",
       "  </thead>\n",
       "  <tbody>\n",
       "    <tr>\n",
       "      <th>0</th>\n",
       "      <td>Wong</td>\n",
       "      <td>1</td>\n",
       "      <td>5</td>\n",
       "      <td>4</td>\n",
       "      <td>1</td>\n",
       "      <td>1.0</td>\n",
       "    </tr>\n",
       "    <tr>\n",
       "      <th>1</th>\n",
       "      <td>James</td>\n",
       "      <td>3</td>\n",
       "      <td>3</td>\n",
       "      <td>5</td>\n",
       "      <td>2</td>\n",
       "      <td>1.0</td>\n",
       "    </tr>\n",
       "    <tr>\n",
       "      <th>2</th>\n",
       "      <td>Kevin</td>\n",
       "      <td>5</td>\n",
       "      <td>2</td>\n",
       "      <td>5</td>\n",
       "      <td>4</td>\n",
       "      <td>4.0</td>\n",
       "    </tr>\n",
       "    <tr>\n",
       "      <th>3</th>\n",
       "      <td>Ali</td>\n",
       "      <td>3</td>\n",
       "      <td>1</td>\n",
       "      <td>2</td>\n",
       "      <td>1</td>\n",
       "      <td>2.0</td>\n",
       "    </tr>\n",
       "    <tr>\n",
       "      <th>4</th>\n",
       "      <td>Amy</td>\n",
       "      <td>3</td>\n",
       "      <td>3</td>\n",
       "      <td>5</td>\n",
       "      <td>1</td>\n",
       "      <td>NaN</td>\n",
       "    </tr>\n",
       "  </tbody>\n",
       "</table>\n",
       "</div>"
      ],
      "text/plain": [
       "   Users  Movie 1  Movie 2  Movie 3  Movie 4  Movie 5\n",
       "0   Wong        1        5        4        1      1.0\n",
       "1  James        3        3        5        2      1.0\n",
       "2  Kevin        5        2        5        4      4.0\n",
       "3    Ali        3        1        2        1      2.0\n",
       "4    Amy        3        3        5        1      NaN"
      ]
     },
     "execution_count": 24,
     "metadata": {},
     "output_type": "execute_result"
    }
   ],
   "source": [
    "df"
   ]
  },
  {
   "cell_type": "code",
   "execution_count": 25,
   "metadata": {
    "ExecuteTime": {
     "end_time": "2021-02-09T06:36:00.406549Z",
     "start_time": "2021-02-09T06:36:00.400565Z"
    }
   },
   "outputs": [],
   "source": [
    "wong = np.array(df.iloc[0, 1:-1].values)\n",
    "james = np.array(df.iloc[1, 1:-1].values)\n",
    "kevin = np.array(df.iloc[2, 1:-1].values)\n",
    "ali = np.array(df.iloc[3, 1:-1].values)\n",
    "amy = np.array(df.iloc[-1, 1:-1].values)"
   ]
  },
  {
   "cell_type": "code",
   "execution_count": 26,
   "metadata": {
    "ExecuteTime": {
     "end_time": "2021-02-09T06:36:00.763399Z",
     "start_time": "2021-02-09T06:36:00.757376Z"
    }
   },
   "outputs": [],
   "source": [
    "movie1 = np.array(df.iloc[:-1, 1].values)\n",
    "movie2 = np.array(df.iloc[:-1, 2].values)\n",
    "movie3 = np.array(df.iloc[:-1, 3].values)\n",
    "movie4 = np.array(df.iloc[:-1, 4].values)\n",
    "movie5 = np.array(df.iloc[:-1, -1].values)"
   ]
  },
  {
   "cell_type": "code",
   "execution_count": 27,
   "metadata": {
    "ExecuteTime": {
     "end_time": "2021-02-09T06:36:02.781512Z",
     "start_time": "2021-02-09T06:36:02.777522Z"
    }
   },
   "outputs": [],
   "source": [
    "def svdprob(M, u, s):\n",
    "    first = np.matmul(M, u[:, 0:2])\n",
    "    second = np.matmul(first, np.linalg.inv(s[:2, :2]))\n",
    "    return second"
   ]
  },
  {
   "cell_type": "code",
   "execution_count": 28,
   "metadata": {
    "ExecuteTime": {
     "end_time": "2021-02-09T06:36:03.560832Z",
     "start_time": "2021-02-09T06:36:03.536894Z"
    }
   },
   "outputs": [
    {
     "data": {
      "text/html": [
       "<div>\n",
       "<style scoped>\n",
       "    .dataframe tbody tr th:only-of-type {\n",
       "        vertical-align: middle;\n",
       "    }\n",
       "\n",
       "    .dataframe tbody tr th {\n",
       "        vertical-align: top;\n",
       "    }\n",
       "\n",
       "    .dataframe thead th {\n",
       "        text-align: right;\n",
       "    }\n",
       "</style>\n",
       "<table border=\"1\" class=\"dataframe\">\n",
       "  <thead>\n",
       "    <tr style=\"text-align: right;\">\n",
       "      <th></th>\n",
       "      <th>x</th>\n",
       "      <th>y</th>\n",
       "      <th>label</th>\n",
       "    </tr>\n",
       "  </thead>\n",
       "  <tbody>\n",
       "    <tr>\n",
       "      <th>0</th>\n",
       "      <td>-0.482066</td>\n",
       "      <td>0.265491</td>\n",
       "      <td>Wong</td>\n",
       "    </tr>\n",
       "    <tr>\n",
       "      <th>1</th>\n",
       "      <td>-0.542037</td>\n",
       "      <td>0.119103</td>\n",
       "      <td>James</td>\n",
       "    </tr>\n",
       "    <tr>\n",
       "      <th>2</th>\n",
       "      <td>-0.616954</td>\n",
       "      <td>-0.116820</td>\n",
       "      <td>Kevin</td>\n",
       "    </tr>\n",
       "    <tr>\n",
       "      <th>3</th>\n",
       "      <td>-0.277986</td>\n",
       "      <td>-0.287676</td>\n",
       "      <td>Ali</td>\n",
       "    </tr>\n",
       "    <tr>\n",
       "      <th>4</th>\n",
       "      <td>-0.519121</td>\n",
       "      <td>0.053209</td>\n",
       "      <td>Amy</td>\n",
       "    </tr>\n",
       "  </tbody>\n",
       "</table>\n",
       "</div>"
      ],
      "text/plain": [
       "          x         y  label\n",
       "0 -0.482066  0.265491   Wong\n",
       "1 -0.542037  0.119103  James\n",
       "2 -0.616954 -0.116820  Kevin\n",
       "3 -0.277986 -0.287676    Ali\n",
       "4 -0.519121  0.053209    Amy"
      ]
     },
     "execution_count": 28,
     "metadata": {},
     "output_type": "execute_result"
    }
   ],
   "source": [
    "user_2dim = []\n",
    "user_2dimname = []\n",
    "\n",
    "user = [wong, james, kevin, ali, amy]\n",
    "username = ['Wong', 'James', 'Kevin', 'Ali', 'Amy']\n",
    "for i,j in zip(user, username):\n",
    "    user_2dim.append(svdprob(i, u, s))\n",
    "    user_2dimname.append(j)\n",
    "    \n",
    "user_2dim_df = pd.concat([pd.DataFrame(user_2dim), pd.DataFrame(user_2dimname)], 1)\n",
    "user_2dim_df.columns = ['x', 'y', 'label']\n",
    "user_2dim_df"
   ]
  },
  {
   "cell_type": "code",
   "execution_count": 29,
   "metadata": {
    "ExecuteTime": {
     "end_time": "2021-02-09T06:36:04.228207Z",
     "start_time": "2021-02-09T06:36:04.217200Z"
    }
   },
   "outputs": [
    {
     "data": {
      "text/html": [
       "<div>\n",
       "<style scoped>\n",
       "    .dataframe tbody tr th:only-of-type {\n",
       "        vertical-align: middle;\n",
       "    }\n",
       "\n",
       "    .dataframe tbody tr th {\n",
       "        vertical-align: top;\n",
       "    }\n",
       "\n",
       "    .dataframe thead th {\n",
       "        text-align: right;\n",
       "    }\n",
       "</style>\n",
       "<table border=\"1\" class=\"dataframe\">\n",
       "  <thead>\n",
       "    <tr style=\"text-align: right;\">\n",
       "      <th></th>\n",
       "      <th>x</th>\n",
       "      <th>y</th>\n",
       "      <th>label</th>\n",
       "    </tr>\n",
       "  </thead>\n",
       "  <tbody>\n",
       "    <tr>\n",
       "      <th>0</th>\n",
       "      <td>-0.492423</td>\n",
       "      <td>0.577788</td>\n",
       "      <td>Movie 1</td>\n",
       "    </tr>\n",
       "    <tr>\n",
       "      <th>1</th>\n",
       "      <td>-0.437406</td>\n",
       "      <td>-0.730628</td>\n",
       "      <td>Movie 2</td>\n",
       "    </tr>\n",
       "    <tr>\n",
       "      <th>2</th>\n",
       "      <td>-0.665192</td>\n",
       "      <td>-0.127454</td>\n",
       "      <td>Movie 3</td>\n",
       "    </tr>\n",
       "    <tr>\n",
       "      <th>3</th>\n",
       "      <td>-0.351731</td>\n",
       "      <td>0.340732</td>\n",
       "      <td>Movie 4</td>\n",
       "    </tr>\n",
       "    <tr>\n",
       "      <th>4</th>\n",
       "      <td>-0.331202</td>\n",
       "      <td>0.431706</td>\n",
       "      <td>Movie 5</td>\n",
       "    </tr>\n",
       "  </tbody>\n",
       "</table>\n",
       "</div>"
      ],
      "text/plain": [
       "          x         y    label\n",
       "0 -0.492423  0.577788  Movie 1\n",
       "1 -0.437406 -0.730628  Movie 2\n",
       "2 -0.665192 -0.127454  Movie 3\n",
       "3 -0.351731  0.340732  Movie 4\n",
       "4 -0.331202  0.431706  Movie 5"
      ]
     },
     "execution_count": 29,
     "metadata": {},
     "output_type": "execute_result"
    }
   ],
   "source": [
    "item_2dim = []\n",
    "item_2dimname = []\n",
    "\n",
    "item = [movie1, movie2, movie3, movie4, movie5]\n",
    "itemname = ['Movie 1', 'Movie 2', 'Movie 3', 'Movie 4', 'Movie 5']\n",
    "for i,j in zip(item, itemname):\n",
    "    item_2dim.append(svdprob(i, u, s))\n",
    "    item_2dimname.append(j)\n",
    "    \n",
    "item_2dim_df = pd.concat([pd.DataFrame(item_2dim), pd.DataFrame(item_2dimname)], 1)\n",
    "item_2dim_df.columns = ['x', 'y', 'label']\n",
    "item_2dim_df"
   ]
  },
  {
   "cell_type": "code",
   "execution_count": 30,
   "metadata": {
    "ExecuteTime": {
     "end_time": "2021-02-09T06:36:55.930504Z",
     "start_time": "2021-02-09T06:36:55.645229Z"
    }
   },
   "outputs": [
    {
     "name": "stderr",
     "output_type": "stream",
     "text": [
      "D:\\Users\\muhammad.taufik.azri\\AppData\\Local\\Continuum\\anaconda3\\envs\\analysis\\lib\\site-packages\\matplotlib\\text.py:2178: UserWarning: You have used the `textcoords` kwarg, but not the `xytext` kwarg.  This can lead to surprising results.\n",
      "  warnings.warn(\"You have used the `textcoords` kwarg, but not \"\n"
     ]
    },
    {
     "data": {
      "text/plain": [
       "<matplotlib.legend.Legend at 0x121cde052b0>"
      ]
     },
     "execution_count": 30,
     "metadata": {},
     "output_type": "execute_result"
    },
    {
     "data": {
      "image/png": "[encoded data removed]",
      "text/plain": [
       "<Figure size 432x288 with 1 Axes>"
      ]
     },
     "metadata": {
      "needs_background": "light"
     },
     "output_type": "display_data"
    }
   ],
   "source": [
    "fig, ax = plt.subplots()\n",
    "\n",
    "for i in range(len(user_2dim_df)):\n",
    "    ax.scatter(user_2dim_df.iloc[i, 0], user_2dim_df.iloc[i, 1], label=user_2dim_df.iloc[i, 2], marker='v')\n",
    "    \n",
    "    ax.annotate(xy=(user_2dim_df.iloc[i, 0] +0.01,  user_2dim_df.iloc[i, 1] + 0.01), s=user_2dim_df.iloc[i, 2],\n",
    "                  textcoords=\"offset points\",)\n",
    "    \n",
    "for i in range(len(item_2dim_df)):\n",
    "    ax.scatter(item_2dim_df.iloc[i, 0], item_2dim_df.iloc[i, 1], label=item_2dim_df.iloc[i, 2])\n",
    "    \n",
    "    ax.annotate(xy=(item_2dim_df.iloc[i, 0] +0.01,  item_2dim_df.iloc[i, 1] + 0.01), s=item_2dim_df.iloc[i, 2],\n",
    "                  textcoords=\"offset points\", ha='right')\n",
    "plt.xlim(-1, 0)\n",
    "plt.legend(bbox_to_anchor=(1.3,1))"
   ]
  },
  {
   "cell_type": "markdown",
   "metadata": {},
   "source": [
    "### Support, confidence, lift"
   ]
  },
  {
   "cell_type": "code",
   "execution_count": 31,
   "metadata": {
    "ExecuteTime": {
     "end_time": "2021-02-09T06:36:58.293909Z",
     "start_time": "2021-02-09T06:36:58.277950Z"
    }
   },
   "outputs": [
    {
     "data": {
      "text/html": [
       "<div>\n",
       "<style scoped>\n",
       "    .dataframe tbody tr th:only-of-type {\n",
       "        vertical-align: middle;\n",
       "    }\n",
       "\n",
       "    .dataframe tbody tr th {\n",
       "        vertical-align: top;\n",
       "    }\n",
       "\n",
       "    .dataframe thead th {\n",
       "        text-align: right;\n",
       "    }\n",
       "</style>\n",
       "<table border=\"1\" class=\"dataframe\">\n",
       "  <thead>\n",
       "    <tr style=\"text-align: right;\">\n",
       "      <th></th>\n",
       "      <th>Users</th>\n",
       "      <th>Milk</th>\n",
       "      <th>Egg</th>\n",
       "      <th>Flour</th>\n",
       "      <th>Diaper</th>\n",
       "      <th>Soap</th>\n",
       "    </tr>\n",
       "  </thead>\n",
       "  <tbody>\n",
       "    <tr>\n",
       "      <th>0</th>\n",
       "      <td>Wong</td>\n",
       "      <td>1</td>\n",
       "      <td>5</td>\n",
       "      <td>4</td>\n",
       "      <td>0</td>\n",
       "      <td>3.0</td>\n",
       "    </tr>\n",
       "    <tr>\n",
       "      <th>1</th>\n",
       "      <td>James</td>\n",
       "      <td>3</td>\n",
       "      <td>5</td>\n",
       "      <td>0</td>\n",
       "      <td>2</td>\n",
       "      <td>2.0</td>\n",
       "    </tr>\n",
       "    <tr>\n",
       "      <th>2</th>\n",
       "      <td>Kevin</td>\n",
       "      <td>0</td>\n",
       "      <td>1</td>\n",
       "      <td>0</td>\n",
       "      <td>1</td>\n",
       "      <td>0.0</td>\n",
       "    </tr>\n",
       "    <tr>\n",
       "      <th>3</th>\n",
       "      <td>Ali</td>\n",
       "      <td>3</td>\n",
       "      <td>0</td>\n",
       "      <td>2</td>\n",
       "      <td>3</td>\n",
       "      <td>5.0</td>\n",
       "    </tr>\n",
       "    <tr>\n",
       "      <th>4</th>\n",
       "      <td>Amy</td>\n",
       "      <td>4</td>\n",
       "      <td>4</td>\n",
       "      <td>5</td>\n",
       "      <td>3</td>\n",
       "      <td>NaN</td>\n",
       "    </tr>\n",
       "  </tbody>\n",
       "</table>\n",
       "</div>"
      ],
      "text/plain": [
       "   Users  Milk  Egg  Flour  Diaper  Soap\n",
       "0   Wong     1    5      4       0   3.0\n",
       "1  James     3    5      0       2   2.0\n",
       "2  Kevin     0    1      0       1   0.0\n",
       "3    Ali     3    0      2       3   5.0\n",
       "4    Amy     4    4      5       3   NaN"
      ]
     },
     "execution_count": 31,
     "metadata": {},
     "output_type": "execute_result"
    }
   ],
   "source": [
    "basketdf = pd.read_csv('data/ch1b.csv')\n",
    "basketdf"
   ]
  },
  {
   "cell_type": "code",
   "execution_count": 32,
   "metadata": {
    "ExecuteTime": {
     "end_time": "2021-02-09T06:37:00.189864Z",
     "start_time": "2021-02-09T06:37:00.183879Z"
    }
   },
   "outputs": [],
   "source": [
    "basket_matrix = basketdf.fillna(0)\n",
    "basket_matrix = basket_matrix.set_index('Users', drop=True)"
   ]
  },
  {
   "cell_type": "code",
   "execution_count": 33,
   "metadata": {
    "ExecuteTime": {
     "end_time": "2021-02-09T06:37:00.679626Z",
     "start_time": "2021-02-09T06:37:00.670686Z"
    }
   },
   "outputs": [
    {
     "data": {
      "text/html": [
       "<div>\n",
       "<style scoped>\n",
       "    .dataframe tbody tr th:only-of-type {\n",
       "        vertical-align: middle;\n",
       "    }\n",
       "\n",
       "    .dataframe tbody tr th {\n",
       "        vertical-align: top;\n",
       "    }\n",
       "\n",
       "    .dataframe thead th {\n",
       "        text-align: right;\n",
       "    }\n",
       "</style>\n",
       "<table border=\"1\" class=\"dataframe\">\n",
       "  <thead>\n",
       "    <tr style=\"text-align: right;\">\n",
       "      <th></th>\n",
       "      <th>Milk</th>\n",
       "      <th>Egg</th>\n",
       "      <th>Flour</th>\n",
       "      <th>Diaper</th>\n",
       "      <th>Soap</th>\n",
       "    </tr>\n",
       "    <tr>\n",
       "      <th>Users</th>\n",
       "      <th></th>\n",
       "      <th></th>\n",
       "      <th></th>\n",
       "      <th></th>\n",
       "      <th></th>\n",
       "    </tr>\n",
       "  </thead>\n",
       "  <tbody>\n",
       "    <tr>\n",
       "      <th>Wong</th>\n",
       "      <td>1</td>\n",
       "      <td>5</td>\n",
       "      <td>4</td>\n",
       "      <td>0</td>\n",
       "      <td>3</td>\n",
       "    </tr>\n",
       "    <tr>\n",
       "      <th>James</th>\n",
       "      <td>3</td>\n",
       "      <td>5</td>\n",
       "      <td>0</td>\n",
       "      <td>2</td>\n",
       "      <td>2</td>\n",
       "    </tr>\n",
       "    <tr>\n",
       "      <th>Kevin</th>\n",
       "      <td>0</td>\n",
       "      <td>1</td>\n",
       "      <td>0</td>\n",
       "      <td>1</td>\n",
       "      <td>0</td>\n",
       "    </tr>\n",
       "    <tr>\n",
       "      <th>Ali</th>\n",
       "      <td>3</td>\n",
       "      <td>0</td>\n",
       "      <td>2</td>\n",
       "      <td>3</td>\n",
       "      <td>5</td>\n",
       "    </tr>\n",
       "    <tr>\n",
       "      <th>Amy</th>\n",
       "      <td>4</td>\n",
       "      <td>4</td>\n",
       "      <td>5</td>\n",
       "      <td>3</td>\n",
       "      <td>0</td>\n",
       "    </tr>\n",
       "  </tbody>\n",
       "</table>\n",
       "</div>"
      ],
      "text/plain": [
       "       Milk  Egg  Flour  Diaper  Soap\n",
       "Users                                \n",
       "Wong      1    5      4       0     3\n",
       "James     3    5      0       2     2\n",
       "Kevin     0    1      0       1     0\n",
       "Ali       3    0      2       3     5\n",
       "Amy       4    4      5       3     0"
      ]
     },
     "execution_count": 33,
     "metadata": {},
     "output_type": "execute_result"
    }
   ],
   "source": [
    "basket_matrix.astype(int)"
   ]
  },
  {
   "cell_type": "code",
   "execution_count": 34,
   "metadata": {
    "ExecuteTime": {
     "end_time": "2021-02-09T06:37:04.364628Z",
     "start_time": "2021-02-09T06:37:04.337738Z"
    }
   },
   "outputs": [],
   "source": [
    "set1 = set(basket_matrix.columns)\n",
    "\n",
    "all_support_df = pd.DataFrame()\n",
    "\n",
    "for i in set1:\n",
    "    set2 = set(basket_matrix.columns)\n",
    "    set2.discard(i)\n",
    "    \n",
    "    supportdf = pd.DataFrame()\n",
    "    a_col = []\n",
    "    b_col = []\n",
    "    support = []\n",
    "    for j in set2:\n",
    "        ## number of customer purchasing X and Y together\n",
    "        a = len(basket_matrix[(basket_matrix[j] != 0) & (basket_matrix[i] != 0)])\n",
    "        ### number of customers\n",
    "        b = len(basket_matrix)\n",
    "\n",
    "        support.append(a/b)\n",
    "        a_col.append(i)\n",
    "        b_col.append(j)\n",
    "    \n",
    "    supportdf = pd.DataFrame([a_col, b_col, support]).T\n",
    "    \n",
    "    all_support_df = pd.concat([all_support_df, supportdf], 0)"
   ]
  },
  {
   "cell_type": "code",
   "execution_count": 35,
   "metadata": {
    "ExecuteTime": {
     "end_time": "2021-02-09T06:37:04.674800Z",
     "start_time": "2021-02-09T06:37:04.664825Z"
    }
   },
   "outputs": [
    {
     "data": {
      "text/html": [
       "<div>\n",
       "<style scoped>\n",
       "    .dataframe tbody tr th:only-of-type {\n",
       "        vertical-align: middle;\n",
       "    }\n",
       "\n",
       "    .dataframe tbody tr th {\n",
       "        vertical-align: top;\n",
       "    }\n",
       "\n",
       "    .dataframe thead th {\n",
       "        text-align: right;\n",
       "    }\n",
       "</style>\n",
       "<table border=\"1\" class=\"dataframe\">\n",
       "  <thead>\n",
       "    <tr style=\"text-align: right;\">\n",
       "      <th></th>\n",
       "      <th>0</th>\n",
       "      <th>1</th>\n",
       "      <th>2</th>\n",
       "    </tr>\n",
       "  </thead>\n",
       "  <tbody>\n",
       "    <tr>\n",
       "      <th>0</th>\n",
       "      <td>Diaper</td>\n",
       "      <td>Egg</td>\n",
       "      <td>0.6</td>\n",
       "    </tr>\n",
       "    <tr>\n",
       "      <th>1</th>\n",
       "      <td>Diaper</td>\n",
       "      <td>Milk</td>\n",
       "      <td>0.6</td>\n",
       "    </tr>\n",
       "    <tr>\n",
       "      <th>2</th>\n",
       "      <td>Diaper</td>\n",
       "      <td>Flour</td>\n",
       "      <td>0.4</td>\n",
       "    </tr>\n",
       "    <tr>\n",
       "      <th>3</th>\n",
       "      <td>Diaper</td>\n",
       "      <td>Soap</td>\n",
       "      <td>0.4</td>\n",
       "    </tr>\n",
       "    <tr>\n",
       "      <th>0</th>\n",
       "      <td>Egg</td>\n",
       "      <td>Diaper</td>\n",
       "      <td>0.6</td>\n",
       "    </tr>\n",
       "    <tr>\n",
       "      <th>1</th>\n",
       "      <td>Egg</td>\n",
       "      <td>Milk</td>\n",
       "      <td>0.6</td>\n",
       "    </tr>\n",
       "    <tr>\n",
       "      <th>2</th>\n",
       "      <td>Egg</td>\n",
       "      <td>Flour</td>\n",
       "      <td>0.4</td>\n",
       "    </tr>\n",
       "    <tr>\n",
       "      <th>3</th>\n",
       "      <td>Egg</td>\n",
       "      <td>Soap</td>\n",
       "      <td>0.4</td>\n",
       "    </tr>\n",
       "    <tr>\n",
       "      <th>0</th>\n",
       "      <td>Milk</td>\n",
       "      <td>Diaper</td>\n",
       "      <td>0.6</td>\n",
       "    </tr>\n",
       "    <tr>\n",
       "      <th>1</th>\n",
       "      <td>Milk</td>\n",
       "      <td>Egg</td>\n",
       "      <td>0.6</td>\n",
       "    </tr>\n",
       "    <tr>\n",
       "      <th>2</th>\n",
       "      <td>Milk</td>\n",
       "      <td>Flour</td>\n",
       "      <td>0.6</td>\n",
       "    </tr>\n",
       "    <tr>\n",
       "      <th>3</th>\n",
       "      <td>Milk</td>\n",
       "      <td>Soap</td>\n",
       "      <td>0.6</td>\n",
       "    </tr>\n",
       "    <tr>\n",
       "      <th>0</th>\n",
       "      <td>Flour</td>\n",
       "      <td>Diaper</td>\n",
       "      <td>0.4</td>\n",
       "    </tr>\n",
       "    <tr>\n",
       "      <th>1</th>\n",
       "      <td>Flour</td>\n",
       "      <td>Egg</td>\n",
       "      <td>0.4</td>\n",
       "    </tr>\n",
       "    <tr>\n",
       "      <th>2</th>\n",
       "      <td>Flour</td>\n",
       "      <td>Milk</td>\n",
       "      <td>0.6</td>\n",
       "    </tr>\n",
       "    <tr>\n",
       "      <th>3</th>\n",
       "      <td>Flour</td>\n",
       "      <td>Soap</td>\n",
       "      <td>0.4</td>\n",
       "    </tr>\n",
       "    <tr>\n",
       "      <th>0</th>\n",
       "      <td>Soap</td>\n",
       "      <td>Diaper</td>\n",
       "      <td>0.4</td>\n",
       "    </tr>\n",
       "    <tr>\n",
       "      <th>1</th>\n",
       "      <td>Soap</td>\n",
       "      <td>Egg</td>\n",
       "      <td>0.4</td>\n",
       "    </tr>\n",
       "    <tr>\n",
       "      <th>2</th>\n",
       "      <td>Soap</td>\n",
       "      <td>Milk</td>\n",
       "      <td>0.6</td>\n",
       "    </tr>\n",
       "    <tr>\n",
       "      <th>3</th>\n",
       "      <td>Soap</td>\n",
       "      <td>Flour</td>\n",
       "      <td>0.4</td>\n",
       "    </tr>\n",
       "  </tbody>\n",
       "</table>\n",
       "</div>"
      ],
      "text/plain": [
       "        0       1    2\n",
       "0  Diaper     Egg  0.6\n",
       "1  Diaper    Milk  0.6\n",
       "2  Diaper   Flour  0.4\n",
       "3  Diaper    Soap  0.4\n",
       "0     Egg  Diaper  0.6\n",
       "1     Egg    Milk  0.6\n",
       "2     Egg   Flour  0.4\n",
       "3     Egg    Soap  0.4\n",
       "0    Milk  Diaper  0.6\n",
       "1    Milk     Egg  0.6\n",
       "2    Milk   Flour  0.6\n",
       "3    Milk    Soap  0.6\n",
       "0   Flour  Diaper  0.4\n",
       "1   Flour     Egg  0.4\n",
       "2   Flour    Milk  0.6\n",
       "3   Flour    Soap  0.4\n",
       "0    Soap  Diaper  0.4\n",
       "1    Soap     Egg  0.4\n",
       "2    Soap    Milk  0.6\n",
       "3    Soap   Flour  0.4"
      ]
     },
     "execution_count": 35,
     "metadata": {},
     "output_type": "execute_result"
    }
   ],
   "source": [
    "all_support_df"
   ]
  },
  {
   "cell_type": "code",
   "execution_count": 36,
   "metadata": {
    "ExecuteTime": {
     "end_time": "2021-02-09T06:37:05.239898Z",
     "start_time": "2021-02-09T06:37:05.202001Z"
    }
   },
   "outputs": [],
   "source": [
    "set1 = set(basket_matrix.columns)\n",
    "\n",
    "all_conf_df = pd.DataFrame()\n",
    "\n",
    "for i in set1:\n",
    "    set2 = set(basket_matrix.columns)\n",
    "    set2.discard(i)\n",
    "    \n",
    "    confdf = pd.DataFrame()\n",
    "    a_col = []\n",
    "    b_col = []\n",
    "    conf = []\n",
    "    for j in set2:\n",
    "        ## number of customer purchasing X and Y\n",
    "        a = len(basket_matrix[(basket_matrix[j] != 0) & (basket_matrix[i] != 0)])\n",
    "        ### number of cust purchasing X\n",
    "        b = len(basket_matrix[(basket_matrix[j] != 0)])\n",
    "\n",
    "        conf.append(a/b)\n",
    "        a_col.append(i)\n",
    "        b_col.append(j)\n",
    "    \n",
    "    confdf = pd.DataFrame([a_col, b_col, conf]).T\n",
    "    \n",
    "    all_conf_df = pd.concat([all_conf_df, confdf], 0)"
   ]
  },
  {
   "cell_type": "code",
   "execution_count": 37,
   "metadata": {
    "ExecuteTime": {
     "end_time": "2021-02-09T06:37:05.827115Z",
     "start_time": "2021-02-09T06:37:05.818178Z"
    }
   },
   "outputs": [
    {
     "data": {
      "text/html": [
       "<div>\n",
       "<style scoped>\n",
       "    .dataframe tbody tr th:only-of-type {\n",
       "        vertical-align: middle;\n",
       "    }\n",
       "\n",
       "    .dataframe tbody tr th {\n",
       "        vertical-align: top;\n",
       "    }\n",
       "\n",
       "    .dataframe thead th {\n",
       "        text-align: right;\n",
       "    }\n",
       "</style>\n",
       "<table border=\"1\" class=\"dataframe\">\n",
       "  <thead>\n",
       "    <tr style=\"text-align: right;\">\n",
       "      <th></th>\n",
       "      <th>0</th>\n",
       "      <th>1</th>\n",
       "      <th>2</th>\n",
       "    </tr>\n",
       "  </thead>\n",
       "  <tbody>\n",
       "    <tr>\n",
       "      <th>0</th>\n",
       "      <td>Diaper</td>\n",
       "      <td>Egg</td>\n",
       "      <td>0.75</td>\n",
       "    </tr>\n",
       "    <tr>\n",
       "      <th>1</th>\n",
       "      <td>Diaper</td>\n",
       "      <td>Milk</td>\n",
       "      <td>0.75</td>\n",
       "    </tr>\n",
       "    <tr>\n",
       "      <th>2</th>\n",
       "      <td>Diaper</td>\n",
       "      <td>Flour</td>\n",
       "      <td>0.666667</td>\n",
       "    </tr>\n",
       "    <tr>\n",
       "      <th>3</th>\n",
       "      <td>Diaper</td>\n",
       "      <td>Soap</td>\n",
       "      <td>0.666667</td>\n",
       "    </tr>\n",
       "    <tr>\n",
       "      <th>0</th>\n",
       "      <td>Egg</td>\n",
       "      <td>Diaper</td>\n",
       "      <td>0.75</td>\n",
       "    </tr>\n",
       "    <tr>\n",
       "      <th>1</th>\n",
       "      <td>Egg</td>\n",
       "      <td>Milk</td>\n",
       "      <td>0.75</td>\n",
       "    </tr>\n",
       "    <tr>\n",
       "      <th>2</th>\n",
       "      <td>Egg</td>\n",
       "      <td>Flour</td>\n",
       "      <td>0.666667</td>\n",
       "    </tr>\n",
       "    <tr>\n",
       "      <th>3</th>\n",
       "      <td>Egg</td>\n",
       "      <td>Soap</td>\n",
       "      <td>0.666667</td>\n",
       "    </tr>\n",
       "    <tr>\n",
       "      <th>0</th>\n",
       "      <td>Milk</td>\n",
       "      <td>Diaper</td>\n",
       "      <td>0.75</td>\n",
       "    </tr>\n",
       "    <tr>\n",
       "      <th>1</th>\n",
       "      <td>Milk</td>\n",
       "      <td>Egg</td>\n",
       "      <td>0.75</td>\n",
       "    </tr>\n",
       "    <tr>\n",
       "      <th>2</th>\n",
       "      <td>Milk</td>\n",
       "      <td>Flour</td>\n",
       "      <td>1</td>\n",
       "    </tr>\n",
       "    <tr>\n",
       "      <th>3</th>\n",
       "      <td>Milk</td>\n",
       "      <td>Soap</td>\n",
       "      <td>1</td>\n",
       "    </tr>\n",
       "    <tr>\n",
       "      <th>0</th>\n",
       "      <td>Flour</td>\n",
       "      <td>Diaper</td>\n",
       "      <td>0.5</td>\n",
       "    </tr>\n",
       "    <tr>\n",
       "      <th>1</th>\n",
       "      <td>Flour</td>\n",
       "      <td>Egg</td>\n",
       "      <td>0.5</td>\n",
       "    </tr>\n",
       "    <tr>\n",
       "      <th>2</th>\n",
       "      <td>Flour</td>\n",
       "      <td>Milk</td>\n",
       "      <td>0.75</td>\n",
       "    </tr>\n",
       "    <tr>\n",
       "      <th>3</th>\n",
       "      <td>Flour</td>\n",
       "      <td>Soap</td>\n",
       "      <td>0.666667</td>\n",
       "    </tr>\n",
       "    <tr>\n",
       "      <th>0</th>\n",
       "      <td>Soap</td>\n",
       "      <td>Diaper</td>\n",
       "      <td>0.5</td>\n",
       "    </tr>\n",
       "    <tr>\n",
       "      <th>1</th>\n",
       "      <td>Soap</td>\n",
       "      <td>Egg</td>\n",
       "      <td>0.5</td>\n",
       "    </tr>\n",
       "    <tr>\n",
       "      <th>2</th>\n",
       "      <td>Soap</td>\n",
       "      <td>Milk</td>\n",
       "      <td>0.75</td>\n",
       "    </tr>\n",
       "    <tr>\n",
       "      <th>3</th>\n",
       "      <td>Soap</td>\n",
       "      <td>Flour</td>\n",
       "      <td>0.666667</td>\n",
       "    </tr>\n",
       "  </tbody>\n",
       "</table>\n",
       "</div>"
      ],
      "text/plain": [
       "        0       1         2\n",
       "0  Diaper     Egg      0.75\n",
       "1  Diaper    Milk      0.75\n",
       "2  Diaper   Flour  0.666667\n",
       "3  Diaper    Soap  0.666667\n",
       "0     Egg  Diaper      0.75\n",
       "1     Egg    Milk      0.75\n",
       "2     Egg   Flour  0.666667\n",
       "3     Egg    Soap  0.666667\n",
       "0    Milk  Diaper      0.75\n",
       "1    Milk     Egg      0.75\n",
       "2    Milk   Flour         1\n",
       "3    Milk    Soap         1\n",
       "0   Flour  Diaper       0.5\n",
       "1   Flour     Egg       0.5\n",
       "2   Flour    Milk      0.75\n",
       "3   Flour    Soap  0.666667\n",
       "0    Soap  Diaper       0.5\n",
       "1    Soap     Egg       0.5\n",
       "2    Soap    Milk      0.75\n",
       "3    Soap   Flour  0.666667"
      ]
     },
     "execution_count": 37,
     "metadata": {},
     "output_type": "execute_result"
    }
   ],
   "source": [
    "all_conf_df"
   ]
  },
  {
   "cell_type": "code",
   "execution_count": 38,
   "metadata": {
    "ExecuteTime": {
     "end_time": "2021-02-09T06:37:06.546934Z",
     "start_time": "2021-02-09T06:37:06.508038Z"
    }
   },
   "outputs": [],
   "source": [
    "set1 = set(basket_matrix.columns)\n",
    "\n",
    "all_lift_df = pd.DataFrame()\n",
    "\n",
    "for i in set1:\n",
    "    set2 = set(basket_matrix.columns)\n",
    "    set2.discard(i)\n",
    "    \n",
    "    liftdf = pd.DataFrame()\n",
    "    a_col = []\n",
    "    b_col = []\n",
    "    lift = []\n",
    "    for j in set2:\n",
    "        ## number of customer purchasing X and Y\n",
    "        a = len(basket_matrix[(basket_matrix[j] != 0) & (basket_matrix[i] != 0)])\n",
    "        ### number of cust purchasing X\n",
    "        b = len(basket_matrix[(basket_matrix[j] != 0)])\n",
    "         ### fractions of customers purchasing Y\n",
    "        c = (len(basket_matrix[(basket_matrix[j] != 0)]) / len(basket_matrix))*100\n",
    "\n",
    "        lift.append((a/b)/c)\n",
    "        a_col.append(i)\n",
    "        b_col.append(j)\n",
    "    \n",
    "    liftdf = pd.DataFrame([a_col, b_col, lift]).T\n",
    "    \n",
    "    all_lift_df = pd.concat([all_lift_df, liftdf], 0)"
   ]
  },
  {
   "cell_type": "code",
   "execution_count": 39,
   "metadata": {
    "ExecuteTime": {
     "end_time": "2021-02-09T06:37:07.084633Z",
     "start_time": "2021-02-09T06:37:07.075657Z"
    }
   },
   "outputs": [
    {
     "data": {
      "text/html": [
       "<div>\n",
       "<style scoped>\n",
       "    .dataframe tbody tr th:only-of-type {\n",
       "        vertical-align: middle;\n",
       "    }\n",
       "\n",
       "    .dataframe tbody tr th {\n",
       "        vertical-align: top;\n",
       "    }\n",
       "\n",
       "    .dataframe thead th {\n",
       "        text-align: right;\n",
       "    }\n",
       "</style>\n",
       "<table border=\"1\" class=\"dataframe\">\n",
       "  <thead>\n",
       "    <tr style=\"text-align: right;\">\n",
       "      <th></th>\n",
       "      <th>0</th>\n",
       "      <th>1</th>\n",
       "      <th>2</th>\n",
       "    </tr>\n",
       "  </thead>\n",
       "  <tbody>\n",
       "    <tr>\n",
       "      <th>0</th>\n",
       "      <td>Diaper</td>\n",
       "      <td>Egg</td>\n",
       "      <td>0.009375</td>\n",
       "    </tr>\n",
       "    <tr>\n",
       "      <th>1</th>\n",
       "      <td>Diaper</td>\n",
       "      <td>Milk</td>\n",
       "      <td>0.009375</td>\n",
       "    </tr>\n",
       "    <tr>\n",
       "      <th>2</th>\n",
       "      <td>Diaper</td>\n",
       "      <td>Flour</td>\n",
       "      <td>0.0111111</td>\n",
       "    </tr>\n",
       "    <tr>\n",
       "      <th>3</th>\n",
       "      <td>Diaper</td>\n",
       "      <td>Soap</td>\n",
       "      <td>0.0111111</td>\n",
       "    </tr>\n",
       "    <tr>\n",
       "      <th>0</th>\n",
       "      <td>Egg</td>\n",
       "      <td>Diaper</td>\n",
       "      <td>0.009375</td>\n",
       "    </tr>\n",
       "    <tr>\n",
       "      <th>1</th>\n",
       "      <td>Egg</td>\n",
       "      <td>Milk</td>\n",
       "      <td>0.009375</td>\n",
       "    </tr>\n",
       "    <tr>\n",
       "      <th>2</th>\n",
       "      <td>Egg</td>\n",
       "      <td>Flour</td>\n",
       "      <td>0.0111111</td>\n",
       "    </tr>\n",
       "    <tr>\n",
       "      <th>3</th>\n",
       "      <td>Egg</td>\n",
       "      <td>Soap</td>\n",
       "      <td>0.0111111</td>\n",
       "    </tr>\n",
       "    <tr>\n",
       "      <th>0</th>\n",
       "      <td>Milk</td>\n",
       "      <td>Diaper</td>\n",
       "      <td>0.009375</td>\n",
       "    </tr>\n",
       "    <tr>\n",
       "      <th>1</th>\n",
       "      <td>Milk</td>\n",
       "      <td>Egg</td>\n",
       "      <td>0.009375</td>\n",
       "    </tr>\n",
       "    <tr>\n",
       "      <th>2</th>\n",
       "      <td>Milk</td>\n",
       "      <td>Flour</td>\n",
       "      <td>0.0166667</td>\n",
       "    </tr>\n",
       "    <tr>\n",
       "      <th>3</th>\n",
       "      <td>Milk</td>\n",
       "      <td>Soap</td>\n",
       "      <td>0.0166667</td>\n",
       "    </tr>\n",
       "    <tr>\n",
       "      <th>0</th>\n",
       "      <td>Flour</td>\n",
       "      <td>Diaper</td>\n",
       "      <td>0.00625</td>\n",
       "    </tr>\n",
       "    <tr>\n",
       "      <th>1</th>\n",
       "      <td>Flour</td>\n",
       "      <td>Egg</td>\n",
       "      <td>0.00625</td>\n",
       "    </tr>\n",
       "    <tr>\n",
       "      <th>2</th>\n",
       "      <td>Flour</td>\n",
       "      <td>Milk</td>\n",
       "      <td>0.009375</td>\n",
       "    </tr>\n",
       "    <tr>\n",
       "      <th>3</th>\n",
       "      <td>Flour</td>\n",
       "      <td>Soap</td>\n",
       "      <td>0.0111111</td>\n",
       "    </tr>\n",
       "    <tr>\n",
       "      <th>0</th>\n",
       "      <td>Soap</td>\n",
       "      <td>Diaper</td>\n",
       "      <td>0.00625</td>\n",
       "    </tr>\n",
       "    <tr>\n",
       "      <th>1</th>\n",
       "      <td>Soap</td>\n",
       "      <td>Egg</td>\n",
       "      <td>0.00625</td>\n",
       "    </tr>\n",
       "    <tr>\n",
       "      <th>2</th>\n",
       "      <td>Soap</td>\n",
       "      <td>Milk</td>\n",
       "      <td>0.009375</td>\n",
       "    </tr>\n",
       "    <tr>\n",
       "      <th>3</th>\n",
       "      <td>Soap</td>\n",
       "      <td>Flour</td>\n",
       "      <td>0.0111111</td>\n",
       "    </tr>\n",
       "  </tbody>\n",
       "</table>\n",
       "</div>"
      ],
      "text/plain": [
       "        0       1          2\n",
       "0  Diaper     Egg   0.009375\n",
       "1  Diaper    Milk   0.009375\n",
       "2  Diaper   Flour  0.0111111\n",
       "3  Diaper    Soap  0.0111111\n",
       "0     Egg  Diaper   0.009375\n",
       "1     Egg    Milk   0.009375\n",
       "2     Egg   Flour  0.0111111\n",
       "3     Egg    Soap  0.0111111\n",
       "0    Milk  Diaper   0.009375\n",
       "1    Milk     Egg   0.009375\n",
       "2    Milk   Flour  0.0166667\n",
       "3    Milk    Soap  0.0166667\n",
       "0   Flour  Diaper    0.00625\n",
       "1   Flour     Egg    0.00625\n",
       "2   Flour    Milk   0.009375\n",
       "3   Flour    Soap  0.0111111\n",
       "0    Soap  Diaper    0.00625\n",
       "1    Soap     Egg    0.00625\n",
       "2    Soap    Milk   0.009375\n",
       "3    Soap   Flour  0.0111111"
      ]
     },
     "execution_count": 39,
     "metadata": {},
     "output_type": "execute_result"
    }
   ],
   "source": [
    "all_lift_df"
   ]
  }
 ],
 "metadata": {
  "kernelspec": {
   "display_name": "Python 3.7",
   "language": "python",
   "name": "analysis"
  },
  "language_info": {
   "codemirror_mode": {
    "name": "ipython",
    "version": 3
   },
   "file_extension": ".py",
   "mimetype": "text/x-python",
   "name": "python",
   "nbconvert_exporter": "python",
   "pygments_lexer": "ipython3",
   "version": "3.7.2"
  }
 },
 "nbformat": 4,
 "nbformat_minor": 2
}
